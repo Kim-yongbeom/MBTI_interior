{
 "cells": [
  {
   "cell_type": "markdown",
   "metadata": {
    "id": "OmM6p04nMMvR"
   },
   "source": [
    "# 마지막은 오늘의 집에서 스타일 보고 정리"
   ]
  },
  {
   "cell_type": "code",
   "execution_count": 149,
   "metadata": {
    "colab": {
     "base_uri": "https://localhost:8080/"
    },
    "executionInfo": {
     "elapsed": 3263,
     "status": "ok",
     "timestamp": 1640572222554,
     "user": {
      "displayName": "용범",
      "photoUrl": "https://lh3.googleusercontent.com/a-/AOh14GiaZUHR2vehy-Jvi5j9KzPDwZAzaDiwXi5hKWbC=s64",
      "userId": "03054817850247331452"
     },
     "user_tz": -540
    },
    "id": "1iHOZiuujsYr",
    "outputId": "c4af772a-f9a3-4148-d1a8-46092c0cc8b5"
   },
   "outputs": [
    {
     "name": "stdout",
     "output_type": "stream",
     "text": [
      "Requirement already satisfied: konlpy in /usr/local/lib/python3.7/dist-packages (0.5.2)\n",
      "Requirement already satisfied: beautifulsoup4==4.6.0 in /usr/local/lib/python3.7/dist-packages (from konlpy) (4.6.0)\n",
      "Requirement already satisfied: lxml>=4.1.0 in /usr/local/lib/python3.7/dist-packages (from konlpy) (4.2.6)\n",
      "Requirement already satisfied: numpy>=1.6 in /usr/local/lib/python3.7/dist-packages (from konlpy) (1.19.5)\n",
      "Requirement already satisfied: JPype1>=0.7.0 in /usr/local/lib/python3.7/dist-packages (from konlpy) (1.3.0)\n",
      "Requirement already satisfied: tweepy>=3.7.0 in /usr/local/lib/python3.7/dist-packages (from konlpy) (3.10.0)\n",
      "Requirement already satisfied: colorama in /usr/local/lib/python3.7/dist-packages (from konlpy) (0.4.4)\n",
      "Requirement already satisfied: typing-extensions in /usr/local/lib/python3.7/dist-packages (from JPype1>=0.7.0->konlpy) (3.10.0.2)\n",
      "Requirement already satisfied: requests[socks]>=2.11.1 in /usr/local/lib/python3.7/dist-packages (from tweepy>=3.7.0->konlpy) (2.23.0)\n",
      "Requirement already satisfied: requests-oauthlib>=0.7.0 in /usr/local/lib/python3.7/dist-packages (from tweepy>=3.7.0->konlpy) (1.3.0)\n",
      "Requirement already satisfied: six>=1.10.0 in /usr/local/lib/python3.7/dist-packages (from tweepy>=3.7.0->konlpy) (1.15.0)\n",
      "Requirement already satisfied: oauthlib>=3.0.0 in /usr/local/lib/python3.7/dist-packages (from requests-oauthlib>=0.7.0->tweepy>=3.7.0->konlpy) (3.1.1)\n",
      "Requirement already satisfied: urllib3!=1.25.0,!=1.25.1,<1.26,>=1.21.1 in /usr/local/lib/python3.7/dist-packages (from requests[socks]>=2.11.1->tweepy>=3.7.0->konlpy) (1.24.3)\n",
      "Requirement already satisfied: idna<3,>=2.5 in /usr/local/lib/python3.7/dist-packages (from requests[socks]>=2.11.1->tweepy>=3.7.0->konlpy) (2.10)\n",
      "Requirement already satisfied: chardet<4,>=3.0.2 in /usr/local/lib/python3.7/dist-packages (from requests[socks]>=2.11.1->tweepy>=3.7.0->konlpy) (3.0.4)\n",
      "Requirement already satisfied: certifi>=2017.4.17 in /usr/local/lib/python3.7/dist-packages (from requests[socks]>=2.11.1->tweepy>=3.7.0->konlpy) (2021.10.8)\n",
      "Requirement already satisfied: PySocks!=1.5.7,>=1.5.6 in /usr/local/lib/python3.7/dist-packages (from requests[socks]>=2.11.1->tweepy>=3.7.0->konlpy) (1.7.1)\n"
     ]
    }
   ],
   "source": [
    "!pip install konlpy"
   ]
  },
  {
   "cell_type": "code",
   "execution_count": 150,
   "metadata": {
    "executionInfo": {
     "elapsed": 11,
     "status": "ok",
     "timestamp": 1640572222555,
     "user": {
      "displayName": "용범",
      "photoUrl": "https://lh3.googleusercontent.com/a-/AOh14GiaZUHR2vehy-Jvi5j9KzPDwZAzaDiwXi5hKWbC=s64",
      "userId": "03054817850247331452"
     },
     "user_tz": -540
    },
    "id": "lnZ2zvLNjz0y"
   },
   "outputs": [],
   "source": [
    "from konlpy.tag import Okt\n",
    "from collections import Counter"
   ]
  },
  {
   "cell_type": "code",
   "execution_count": 151,
   "metadata": {
    "colab": {
     "base_uri": "https://localhost:8080/"
    },
    "executionInfo": {
     "elapsed": 10,
     "status": "ok",
     "timestamp": 1640572222555,
     "user": {
      "displayName": "용범",
      "photoUrl": "https://lh3.googleusercontent.com/a-/AOh14GiaZUHR2vehy-Jvi5j9KzPDwZAzaDiwXi5hKWbC=s64",
      "userId": "03054817850247331452"
     },
     "user_tz": -540
    },
    "id": "k2r_tdiuj1It",
    "outputId": "368db217-ee5b-445d-c855-08501b97d0a2"
   },
   "outputs": [
    {
     "data": {
      "text/plain": [
       "<konlpy.tag._okt.Okt at 0x7fd9d165bf50>"
      ]
     },
     "execution_count": 151,
     "metadata": {},
     "output_type": "execute_result"
    }
   ],
   "source": [
    "okt = Okt()\n",
    "okt"
   ]
  },
  {
   "cell_type": "code",
   "execution_count": 152,
   "metadata": {
    "executionInfo": {
     "elapsed": 9,
     "status": "ok",
     "timestamp": 1640572222556,
     "user": {
      "displayName": "용범",
      "photoUrl": "https://lh3.googleusercontent.com/a-/AOh14GiaZUHR2vehy-Jvi5j9KzPDwZAzaDiwXi5hKWbC=s64",
      "userId": "03054817850247331452"
     },
     "user_tz": -540
    },
    "id": "Te0GqWH5EsM-"
   },
   "outputs": [],
   "source": [
    "stopwords = ['테이블','집','집들이','카페','인테리어','스탠드','증정','세트','이벤트','터치','전구','원형',\n",
    "             '인','제','벽','공간','컬러','홈','저','것','이불','종','의자','커버','쿠폰','베개','시즌',\n",
    "             '오프','온라인','판매','사진','달','블루투스','단독','개월','더','단','신고','전','때','방',\n",
    "             '셀프','곡목','패','밀도','오늘','브릭','홀더','스피커','보','답글','달기','보이드','시간',\n",
    "             '옷','서랍','일러스트','정말','층','고객','포장','전신','평','취향','큐브','수납','사이드',\n",
    "             '원룸','오브','선물','등록','수','레이스','자취','안','체크','위','꼭꼬핀','선반','등','조화',\n",
    "             '그림','하나','생각','안심','파도','이','침대','느낌','함','상품','침구','걸이','그','나',\n",
    "             '문의','버킷','소품','라디오','전체','기분','시계','고민','사용','제품','주','애슐리','해외',\n",
    "             '생활','주방','일','거실','가구','해','리스','소개','옷장','받침','취미','접이식','캐비넷',\n",
    "             '레이크','작업','모듈','데','모니터','시작','데스크','독일','편이','걸','할인','구매','물',\n",
    "             '아겐','체어','노르','콘솔','책','활용','일링','아이','거','모습','게','현관','침실','수전',\n",
    "             '용','나비','후','바로','인용','주름','확장','때문','쉬폰','앞','빔','를','트','도톰','포함',\n",
    "             '책장','도','이용','로','트리','아기','정리','식탁','매트','박스','팬','펜','저희','시공',\n",
    "             '장난감']"
   ]
  },
  {
   "cell_type": "markdown",
   "metadata": {
    "id": "3vFjfasQjCbP"
   },
   "source": [
    "# ESTJ"
   ]
  },
  {
   "cell_type": "code",
   "execution_count": 153,
   "metadata": {
    "colab": {
     "base_uri": "https://localhost:8080/"
    },
    "executionInfo": {
     "elapsed": 804,
     "status": "ok",
     "timestamp": 1640572223351,
     "user": {
      "displayName": "용범",
      "photoUrl": "https://lh3.googleusercontent.com/a-/AOh14GiaZUHR2vehy-Jvi5j9KzPDwZAzaDiwXi5hKWbC=s64",
      "userId": "03054817850247331452"
     },
     "user_tz": -540
    },
    "id": "o2CKhwIiia73",
    "outputId": "87f2811c-2dbc-424f-f391-985cb7d7493a"
   },
   "outputs": [
    {
     "data": {
      "text/plain": [
       "[('쿠폰', 47),\n",
       " ('화이트', 33),\n",
       " ('스탠드', 32),\n",
       " ('인테리어', 26),\n",
       " ('집', 26),\n",
       " ('제', 24),\n",
       " ('공간', 19),\n",
       " ('전', 19),\n",
       " ('수납', 19),\n",
       " ('미니', 19),\n",
       " ('할인', 18),\n",
       " ('테이블', 18),\n",
       " ('커버', 17),\n",
       " ('구매', 15),\n",
       " ('신고', 15),\n",
       " ('판매', 15),\n",
       " ('세트', 15),\n",
       " ('커튼', 15),\n",
       " ('포스터', 15),\n",
       " ('내추럴', 14),\n",
       " ('플라워', 14),\n",
       " ('집들이', 13),\n",
       " ('소파', 13),\n",
       " ('방', 13),\n",
       " ('이불', 13),\n",
       " ('답글', 13),\n",
       " ('달기', 13),\n",
       " ('고객', 12),\n",
       " ('사진', 12),\n",
       " ('탁상', 12)]"
      ]
     },
     "execution_count": 153,
     "metadata": {},
     "output_type": "execute_result"
    }
   ],
   "source": [
    "estj_file = open('/content/drive/MyDrive/Colab Notebooks/MBTI프로젝트/ESTJ.txt', encoding='utf8')\n",
    "estj = estj_file.read()\n",
    "\n",
    "estj_words = okt.nouns(estj)\n",
    "\n",
    "estj_count = Counter(estj_words)\n",
    "\n",
    "estj_count.most_common(30)"
   ]
  },
  {
   "cell_type": "code",
   "execution_count": 154,
   "metadata": {
    "executionInfo": {
     "elapsed": 4,
     "status": "ok",
     "timestamp": 1640572223351,
     "user": {
      "displayName": "용범",
      "photoUrl": "https://lh3.googleusercontent.com/a-/AOh14GiaZUHR2vehy-Jvi5j9KzPDwZAzaDiwXi5hKWbC=s64",
      "userId": "03054817850247331452"
     },
     "user_tz": -540
    },
    "id": "ZjksvpuGj9Ia"
   },
   "outputs": [],
   "source": [
    "wordcount = {}\n",
    "# lower 소문자\n",
    "for word in estj_words:  \n",
    "    if word not in stopwords:\n",
    "        if word not in wordcount:\n",
    "            wordcount[word] = 1\n",
    "        else:\n",
    "            wordcount[word] += 1"
   ]
  },
  {
   "cell_type": "code",
   "execution_count": 155,
   "metadata": {
    "colab": {
     "base_uri": "https://localhost:8080/"
    },
    "executionInfo": {
     "elapsed": 4,
     "status": "ok",
     "timestamp": 1640572223352,
     "user": {
      "displayName": "용범",
      "photoUrl": "https://lh3.googleusercontent.com/a-/AOh14GiaZUHR2vehy-Jvi5j9KzPDwZAzaDiwXi5hKWbC=s64",
      "userId": "03054817850247331452"
     },
     "user_tz": -540
    },
    "id": "Pu6upg-Lj-6N",
    "outputId": "48c51c6d-57ce-4ecd-a5ee-9269d9739f73"
   },
   "outputs": [
    {
     "data": {
      "text/plain": [
       "[('화이트', 33),\n",
       " ('미니', 19),\n",
       " ('커튼', 15),\n",
       " ('포스터', 15),\n",
       " ('내추럴', 14),\n",
       " ('플라워', 14),\n",
       " ('소파', 13),\n",
       " ('탁상', 12),\n",
       " ('화분', 12),\n",
       " ('식물', 11),\n",
       " ('색감', 11),\n",
       " ('거울', 10),\n",
       " ('장식', 10),\n",
       " ('쿠션', 10),\n",
       " ('핑크', 9),\n",
       " ('블루', 9),\n",
       " ('베이스', 9),\n",
       " ('액자', 9),\n",
       " ('유리', 8),\n",
       " ('양초', 8),\n",
       " ('루아', 8),\n",
       " ('드', 8),\n",
       " ('하프', 8),\n",
       " ('라운드', 8),\n",
       " ('빈티', 8),\n",
       " ('쌍', 8),\n",
       " ('벽난로', 8),\n",
       " ('홈스', 7),\n",
       " ('키', 7),\n",
       " ('가장', 7)]"
      ]
     },
     "execution_count": 155,
     "metadata": {},
     "output_type": "execute_result"
    }
   ],
   "source": [
    "sorted(wordcount.items(), key=lambda x: x[1], reverse=True)[:30]"
   ]
  },
  {
   "cell_type": "markdown",
   "metadata": {
    "id": "FQYdqSz4jWTp"
   },
   "source": [
    "# ISFP"
   ]
  },
  {
   "cell_type": "code",
   "execution_count": 156,
   "metadata": {
    "colab": {
     "base_uri": "https://localhost:8080/"
    },
    "executionInfo": {
     "elapsed": 2375,
     "status": "ok",
     "timestamp": 1640572225724,
     "user": {
      "displayName": "용범",
      "photoUrl": "https://lh3.googleusercontent.com/a-/AOh14GiaZUHR2vehy-Jvi5j9KzPDwZAzaDiwXi5hKWbC=s64",
      "userId": "03054817850247331452"
     },
     "user_tz": -540
    },
    "id": "tzJ8q-vvAdLO",
    "outputId": "5a5f1478-a9d1-4896-d835-bcefc1089256"
   },
   "outputs": [
    {
     "data": {
      "text/plain": [
       "[('공간', 118),\n",
       " ('쿠폰', 100),\n",
       " ('인테리어', 90),\n",
       " ('사용', 83),\n",
       " ('집', 79),\n",
       " ('화이트', 73),\n",
       " ('수', 70),\n",
       " ('제', 67),\n",
       " ('벽', 66),\n",
       " ('아이', 65),\n",
       " ('것', 62),\n",
       " ('방', 62),\n",
       " ('주방', 59),\n",
       " ('저', 58),\n",
       " ('타일', 56),\n",
       " ('조명', 55),\n",
       " ('셀프', 53),\n",
       " ('커버', 53),\n",
       " ('수납', 53),\n",
       " ('커튼', 51),\n",
       " ('테이블', 50),\n",
       " ('시공', 49),\n",
       " ('거실', 48),\n",
       " ('때', 47),\n",
       " ('침대', 46),\n",
       " ('전', 46),\n",
       " ('모듈', 43),\n",
       " ('선반', 42),\n",
       " ('의자', 41),\n",
       " ('욕실', 39)]"
      ]
     },
     "execution_count": 156,
     "metadata": {},
     "output_type": "execute_result"
    }
   ],
   "source": [
    "isfp_file = open('/content/drive/MyDrive/Colab Notebooks/MBTI프로젝트/ISFP.txt', encoding='utf8')\n",
    "isfp = isfp_file.read()\n",
    "\n",
    "isfp_words = okt.nouns(isfp)\n",
    "\n",
    "isfp_count = Counter(isfp_words)\n",
    "\n",
    "isfp_count.most_common(30)"
   ]
  },
  {
   "cell_type": "code",
   "execution_count": 157,
   "metadata": {
    "executionInfo": {
     "elapsed": 7,
     "status": "ok",
     "timestamp": 1640572225725,
     "user": {
      "displayName": "용범",
      "photoUrl": "https://lh3.googleusercontent.com/a-/AOh14GiaZUHR2vehy-Jvi5j9KzPDwZAzaDiwXi5hKWbC=s64",
      "userId": "03054817850247331452"
     },
     "user_tz": -540
    },
    "id": "xn5nTJf7B4aO"
   },
   "outputs": [],
   "source": [
    "wordcount = {}\n",
    "# lower 소문자\n",
    "for word in isfp_words:  \n",
    "    if word not in stopwords:\n",
    "        if word not in wordcount:\n",
    "            wordcount[word] = 1\n",
    "        else:\n",
    "            wordcount[word] += 1"
   ]
  },
  {
   "cell_type": "code",
   "execution_count": 158,
   "metadata": {
    "colab": {
     "base_uri": "https://localhost:8080/"
    },
    "executionInfo": {
     "elapsed": 6,
     "status": "ok",
     "timestamp": 1640572225725,
     "user": {
      "displayName": "용범",
      "photoUrl": "https://lh3.googleusercontent.com/a-/AOh14GiaZUHR2vehy-Jvi5j9KzPDwZAzaDiwXi5hKWbC=s64",
      "userId": "03054817850247331452"
     },
     "user_tz": -540
    },
    "id": "7vdttuqRB6Qo",
    "outputId": "9b61ccca-1f49-4b5b-b62c-02946e21bece"
   },
   "outputs": [
    {
     "data": {
      "text/plain": [
       "[('화이트', 73),\n",
       " ('타일', 56),\n",
       " ('조명', 55),\n",
       " ('커튼', 51),\n",
       " ('욕실', 39),\n",
       " ('미니', 36),\n",
       " ('스툴', 32),\n",
       " ('배치', 31),\n",
       " ('러그', 29),\n",
       " ('스위치', 27),\n",
       " ('식물', 25),\n",
       " ('감성', 25),\n",
       " ('거울', 21),\n",
       " ('램프', 20),\n",
       " ('빈티', 19),\n",
       " ('포스터', 19),\n",
       " ('베이', 19),\n",
       " ('다용', 18),\n",
       " ('라운드', 17),\n",
       " ('처음', 17)]"
      ]
     },
     "execution_count": 158,
     "metadata": {},
     "output_type": "execute_result"
    }
   ],
   "source": [
    "sorted(wordcount.items(), key=lambda x: x[1], reverse=True)[:20]"
   ]
  },
  {
   "cell_type": "markdown",
   "metadata": {
    "id": "ZDMJVkF5js4d"
   },
   "source": [
    "# INFP"
   ]
  },
  {
   "cell_type": "code",
   "execution_count": 159,
   "metadata": {
    "colab": {
     "base_uri": "https://localhost:8080/"
    },
    "executionInfo": {
     "elapsed": 2701,
     "status": "ok",
     "timestamp": 1640572228421,
     "user": {
      "displayName": "용범",
      "photoUrl": "https://lh3.googleusercontent.com/a-/AOh14GiaZUHR2vehy-Jvi5j9KzPDwZAzaDiwXi5hKWbC=s64",
      "userId": "03054817850247331452"
     },
     "user_tz": -540
    },
    "id": "UOjC0vKtD3p-",
    "outputId": "774de59e-c143-49d4-9245-032270495899"
   },
   "outputs": [
    {
     "data": {
      "text/plain": [
       "[('집', 89),\n",
       " ('공간', 84),\n",
       " ('쿠폰', 83),\n",
       " ('제', 82),\n",
       " ('저', 71),\n",
       " ('것', 69),\n",
       " ('테이블', 69),\n",
       " ('인테리어', 66),\n",
       " ('커튼', 55),\n",
       " ('수', 53),\n",
       " ('전', 50),\n",
       " ('종', 49),\n",
       " ('빈티', 47),\n",
       " ('때', 46),\n",
       " ('화이트', 45),\n",
       " ('판매', 43),\n",
       " ('방', 42),\n",
       " ('신고', 41),\n",
       " ('거실', 39),\n",
       " ('식물', 39),\n",
       " ('고객', 36),\n",
       " ('개월', 36),\n",
       " ('패', 35),\n",
       " ('브릭', 35),\n",
       " ('답글', 35),\n",
       " ('달기', 35),\n",
       " ('스탠드', 34),\n",
       " ('집들이', 33),\n",
       " ('이', 33),\n",
       " ('가구', 33)]"
      ]
     },
     "execution_count": 159,
     "metadata": {},
     "output_type": "execute_result"
    }
   ],
   "source": [
    "infp_file = open('/content/drive/MyDrive/Colab Notebooks/MBTI프로젝트/INFP.txt', encoding='utf8')\n",
    "infp = infp_file.read()\n",
    "\n",
    "infp_words = okt.nouns(infp)\n",
    "\n",
    "infp_count = Counter(infp_words)\n",
    "\n",
    "infp_count.most_common(30)"
   ]
  },
  {
   "cell_type": "code",
   "execution_count": 160,
   "metadata": {
    "executionInfo": {
     "elapsed": 3,
     "status": "ok",
     "timestamp": 1640572228421,
     "user": {
      "displayName": "용범",
      "photoUrl": "https://lh3.googleusercontent.com/a-/AOh14GiaZUHR2vehy-Jvi5j9KzPDwZAzaDiwXi5hKWbC=s64",
      "userId": "03054817850247331452"
     },
     "user_tz": -540
    },
    "id": "5cqUbthAEBed"
   },
   "outputs": [],
   "source": [
    "wordcount = {}\n",
    "# lower 소문자\n",
    "for word in infp_words:  \n",
    "    if word not in stopwords:\n",
    "        if word not in wordcount:\n",
    "            wordcount[word] = 1\n",
    "        else:\n",
    "            wordcount[word] += 1"
   ]
  },
  {
   "cell_type": "code",
   "execution_count": 161,
   "metadata": {
    "colab": {
     "base_uri": "https://localhost:8080/"
    },
    "executionInfo": {
     "elapsed": 3,
     "status": "ok",
     "timestamp": 1640572228421,
     "user": {
      "displayName": "용범",
      "photoUrl": "https://lh3.googleusercontent.com/a-/AOh14GiaZUHR2vehy-Jvi5j9KzPDwZAzaDiwXi5hKWbC=s64",
      "userId": "03054817850247331452"
     },
     "user_tz": -540
    },
    "id": "L-_ouD88EQIM",
    "outputId": "81932e7f-98af-496b-a239-01f67ce691bf"
   },
   "outputs": [
    {
     "data": {
      "text/plain": [
       "[('커튼', 55),\n",
       " ('빈티', 47),\n",
       " ('화이트', 45),\n",
       " ('식물', 39),\n",
       " ('유리', 32),\n",
       " ('화병', 31),\n",
       " ('포스터', 28),\n",
       " ('감성', 23),\n",
       " ('가지', 23),\n",
       " ('원목', 22),\n",
       " ('화분', 22),\n",
       " ('토분', 21),\n",
       " ('우드', 21),\n",
       " ('혼자', 20),\n",
       " ('블랙', 20),\n",
       " ('와인', 20),\n",
       " ('선인장', 20),\n",
       " ('베란다', 19),\n",
       " ('차', 19),\n",
       " ('주말', 19)]"
      ]
     },
     "execution_count": 161,
     "metadata": {},
     "output_type": "execute_result"
    }
   ],
   "source": [
    "sorted(wordcount.items(), key=lambda x: x[1], reverse=True)[:20]"
   ]
  },
  {
   "cell_type": "markdown",
   "metadata": {
    "id": "VrRSnaSAj72j"
   },
   "source": [
    "# INFJ"
   ]
  },
  {
   "cell_type": "code",
   "execution_count": 162,
   "metadata": {
    "colab": {
     "base_uri": "https://localhost:8080/"
    },
    "executionInfo": {
     "elapsed": 2691,
     "status": "ok",
     "timestamp": 1640572231110,
     "user": {
      "displayName": "용범",
      "photoUrl": "https://lh3.googleusercontent.com/a-/AOh14GiaZUHR2vehy-Jvi5j9KzPDwZAzaDiwXi5hKWbC=s64",
      "userId": "03054817850247331452"
     },
     "user_tz": -540
    },
    "id": "EdEA4z32EYqH",
    "outputId": "b87819a5-a7e3-43ac-abe9-985f35247e3d"
   },
   "outputs": [
    {
     "data": {
      "text/plain": [
       "[('테이블', 134),\n",
       " ('집', 114),\n",
       " ('캔들', 101),\n",
       " ('커버', 97),\n",
       " ('쿠폰', 96),\n",
       " ('세트', 95),\n",
       " ('원형', 92),\n",
       " ('집들이', 91),\n",
       " ('포스터', 89),\n",
       " ('제', 89),\n",
       " ('인테리어', 85),\n",
       " ('스탠드', 80),\n",
       " ('벽', 79),\n",
       " ('카페', 75),\n",
       " ('빈티', 73),\n",
       " ('공간', 72),\n",
       " ('원목', 71),\n",
       " ('방', 71),\n",
       " ('것', 69),\n",
       " ('증정', 65),\n",
       " ('거울', 64),\n",
       " ('베개', 63),\n",
       " ('이불', 62),\n",
       " ('의자', 59),\n",
       " ('온라인', 58),\n",
       " ('저', 58),\n",
       " ('이벤트', 57),\n",
       " ('전구', 55),\n",
       " ('레트로', 55),\n",
       " ('터치', 54)]"
      ]
     },
     "execution_count": 162,
     "metadata": {},
     "output_type": "execute_result"
    }
   ],
   "source": [
    "infj_file = open('/content/drive/MyDrive/Colab Notebooks/MBTI프로젝트/INFJ.txt', encoding='utf8')\n",
    "infj = infj_file.read()\n",
    "\n",
    "infj_words = okt.nouns(infj)\n",
    "\n",
    "infj_count = Counter(infj_words)\n",
    "\n",
    "infj_count.most_common(30)"
   ]
  },
  {
   "cell_type": "code",
   "execution_count": 163,
   "metadata": {
    "executionInfo": {
     "elapsed": 7,
     "status": "ok",
     "timestamp": 1640572231110,
     "user": {
      "displayName": "용범",
      "photoUrl": "https://lh3.googleusercontent.com/a-/AOh14GiaZUHR2vehy-Jvi5j9KzPDwZAzaDiwXi5hKWbC=s64",
      "userId": "03054817850247331452"
     },
     "user_tz": -540
    },
    "id": "BbXTQJYWEgU8"
   },
   "outputs": [],
   "source": [
    "wordcount = {}\n",
    "# lower 소문자\n",
    "for word in infj_words:  \n",
    "    if word not in stopwords:\n",
    "        if word not in wordcount:\n",
    "            wordcount[word] = 1\n",
    "        else:\n",
    "            wordcount[word] += 1"
   ]
  },
  {
   "cell_type": "code",
   "execution_count": 164,
   "metadata": {
    "colab": {
     "base_uri": "https://localhost:8080/"
    },
    "executionInfo": {
     "elapsed": 7,
     "status": "ok",
     "timestamp": 1640572231111,
     "user": {
      "displayName": "용범",
      "photoUrl": "https://lh3.googleusercontent.com/a-/AOh14GiaZUHR2vehy-Jvi5j9KzPDwZAzaDiwXi5hKWbC=s64",
      "userId": "03054817850247331452"
     },
     "user_tz": -540
    },
    "id": "bu3YbuKFEhji",
    "outputId": "e58a3262-a1e9-454c-9d0a-6dda14d30b79"
   },
   "outputs": [
    {
     "data": {
      "text/plain": [
       "[('캔들', 101),\n",
       " ('포스터', 89),\n",
       " ('빈티', 73),\n",
       " ('원목', 71),\n",
       " ('거울', 64),\n",
       " ('레트로', 55),\n",
       " ('오로라', 52),\n",
       " ('엽서', 52),\n",
       " ('우드', 37),\n",
       " ('감성', 36),\n",
       " ('조명', 34),\n",
       " ('화이트', 33),\n",
       " ('커튼', 32),\n",
       " ('분위기', 32),\n",
       " ('모던', 31),\n",
       " ('무지', 24),\n",
       " ('미니', 19),\n",
       " ('포레스트', 19),\n",
       " ('유리', 18),\n",
       " ('다이어리', 18)]"
      ]
     },
     "execution_count": 164,
     "metadata": {},
     "output_type": "execute_result"
    }
   ],
   "source": [
    "sorted(wordcount.items(), key=lambda x: x[1], reverse=True)[:20]"
   ]
  },
  {
   "cell_type": "markdown",
   "metadata": {
    "id": "S7AdgZF9kH4l"
   },
   "source": [
    "# ISFJ"
   ]
  },
  {
   "cell_type": "code",
   "execution_count": 165,
   "metadata": {
    "colab": {
     "base_uri": "https://localhost:8080/"
    },
    "executionInfo": {
     "elapsed": 1749,
     "status": "ok",
     "timestamp": 1640572232854,
     "user": {
      "displayName": "용범",
      "photoUrl": "https://lh3.googleusercontent.com/a-/AOh14GiaZUHR2vehy-Jvi5j9KzPDwZAzaDiwXi5hKWbC=s64",
      "userId": "03054817850247331452"
     },
     "user_tz": -540
    },
    "id": "x9l_Vag6GYDP",
    "outputId": "1db48ddd-a57a-4ee4-cd58-d722a90ab2a3"
   },
   "outputs": [
    {
     "data": {
      "text/plain": [
       "[('수납', 60),\n",
       " ('쿠폰', 50),\n",
       " ('집', 48),\n",
       " ('컬러', 36),\n",
       " ('화이트', 36),\n",
       " ('공간', 35),\n",
       " ('테이블', 35),\n",
       " ('소파', 35),\n",
       " ('수', 35),\n",
       " ('오브', 34),\n",
       " ('거실', 34),\n",
       " ('아이', 34),\n",
       " ('컬렉션', 30),\n",
       " ('때', 27),\n",
       " ('선택', 27),\n",
       " ('스탠드', 25),\n",
       " ('저희', 24),\n",
       " ('원형', 24),\n",
       " ('의자', 24),\n",
       " ('시즌', 24),\n",
       " ('오프', 24),\n",
       " ('더', 24),\n",
       " ('함', 23),\n",
       " ('베이지', 22),\n",
       " ('사용', 22),\n",
       " ('것', 21),\n",
       " ('마루', 21),\n",
       " ('전', 20),\n",
       " ('모듈', 19),\n",
       " ('가구', 19)]"
      ]
     },
     "execution_count": 165,
     "metadata": {},
     "output_type": "execute_result"
    }
   ],
   "source": [
    "isfj_file = open('/content/drive/MyDrive/Colab Notebooks/MBTI프로젝트/ISFJ.txt', encoding='utf8')\n",
    "isfj = isfj_file.read()\n",
    "\n",
    "isfj_words = okt.nouns(isfj)\n",
    "\n",
    "isfj_count = Counter(isfj_words)\n",
    "\n",
    "isfj_count.most_common(30)"
   ]
  },
  {
   "cell_type": "code",
   "execution_count": 166,
   "metadata": {
    "executionInfo": {
     "elapsed": 6,
     "status": "ok",
     "timestamp": 1640572232855,
     "user": {
      "displayName": "용범",
      "photoUrl": "https://lh3.googleusercontent.com/a-/AOh14GiaZUHR2vehy-Jvi5j9KzPDwZAzaDiwXi5hKWbC=s64",
      "userId": "03054817850247331452"
     },
     "user_tz": -540
    },
    "id": "Nly0BdLTGkWr"
   },
   "outputs": [],
   "source": [
    "wordcount = {}\n",
    "# lower 소문자\n",
    "for word in isfj_words:  \n",
    "    if word not in stopwords:\n",
    "        if word not in wordcount:\n",
    "            wordcount[word] = 1\n",
    "        else:\n",
    "            wordcount[word] += 1"
   ]
  },
  {
   "cell_type": "code",
   "execution_count": 167,
   "metadata": {
    "colab": {
     "base_uri": "https://localhost:8080/"
    },
    "executionInfo": {
     "elapsed": 5,
     "status": "ok",
     "timestamp": 1640572232855,
     "user": {
      "displayName": "용범",
      "photoUrl": "https://lh3.googleusercontent.com/a-/AOh14GiaZUHR2vehy-Jvi5j9KzPDwZAzaDiwXi5hKWbC=s64",
      "userId": "03054817850247331452"
     },
     "user_tz": -540
    },
    "id": "aTFcuhpuGqba",
    "outputId": "05db2c8e-f83e-4059-cc2a-6323b423e163"
   },
   "outputs": [
    {
     "data": {
      "text/plain": [
       "[('화이트', 36),\n",
       " ('소파', 35),\n",
       " ('컬렉션', 30),\n",
       " ('선택', 27),\n",
       " ('베이지', 22),\n",
       " ('마루', 21),\n",
       " ('조명', 19),\n",
       " ('삼성', 18),\n",
       " ('캄포', 18),\n",
       " ('택', 17),\n",
       " ('커튼', 17),\n",
       " ('린넨', 17),\n",
       " ('사이즈', 17),\n",
       " ('강', 17),\n",
       " ('미아', 16),\n",
       " ('그레이스', 16),\n",
       " ('베이직', 15),\n",
       " ('미니', 15),\n",
       " ('중', 14),\n",
       " ('아파트', 13)]"
      ]
     },
     "execution_count": 167,
     "metadata": {},
     "output_type": "execute_result"
    }
   ],
   "source": [
    "sorted(wordcount.items(), key=lambda x: x[1], reverse=True)[:20]"
   ]
  },
  {
   "cell_type": "markdown",
   "metadata": {
    "id": "Gb7QG5s4kNf0"
   },
   "source": [
    "# ISTJ"
   ]
  },
  {
   "cell_type": "code",
   "execution_count": 168,
   "metadata": {
    "colab": {
     "base_uri": "https://localhost:8080/"
    },
    "executionInfo": {
     "elapsed": 663,
     "status": "ok",
     "timestamp": 1640572233514,
     "user": {
      "displayName": "용범",
      "photoUrl": "https://lh3.googleusercontent.com/a-/AOh14GiaZUHR2vehy-Jvi5j9KzPDwZAzaDiwXi5hKWbC=s64",
      "userId": "03054817850247331452"
     },
     "user_tz": -540
    },
    "id": "3jerzvyOIeL3",
    "outputId": "0ea695a5-b5b2-4320-cb0e-8e01973a67c3"
   },
   "outputs": [
    {
     "data": {
      "text/plain": [
       "[('아기', 58),\n",
       " ('우드', 32),\n",
       " ('집', 31),\n",
       " ('수납', 25),\n",
       " ('정리', 24),\n",
       " ('주방', 23),\n",
       " ('침대', 23),\n",
       " ('것', 23),\n",
       " ('식탁', 22),\n",
       " ('아이', 21),\n",
       " ('때', 21),\n",
       " ('함', 20),\n",
       " ('화이트', 20),\n",
       " ('매트', 19),\n",
       " ('박스', 19),\n",
       " ('원목', 18),\n",
       " ('서랍', 18),\n",
       " ('걸이', 18),\n",
       " ('컬러', 17),\n",
       " ('로', 16),\n",
       " ('트리', 16),\n",
       " ('방', 16),\n",
       " ('수', 15),\n",
       " ('팬', 15),\n",
       " ('거실', 15),\n",
       " ('저희', 14),\n",
       " ('전', 14),\n",
       " ('리', 13),\n",
       " ('베이지', 13),\n",
       " ('라운드', 13)]"
      ]
     },
     "execution_count": 168,
     "metadata": {},
     "output_type": "execute_result"
    }
   ],
   "source": [
    "istj_file = open('/content/drive/MyDrive/Colab Notebooks/MBTI프로젝트/ISTJ.txt', encoding='utf8')\n",
    "istj = istj_file.read()\n",
    "\n",
    "istj_words = okt.nouns(istj)\n",
    "\n",
    "istj_count = Counter(istj_words)\n",
    "\n",
    "istj_count.most_common(30)"
   ]
  },
  {
   "cell_type": "code",
   "execution_count": 169,
   "metadata": {
    "executionInfo": {
     "elapsed": 4,
     "status": "ok",
     "timestamp": 1640572233514,
     "user": {
      "displayName": "용범",
      "photoUrl": "https://lh3.googleusercontent.com/a-/AOh14GiaZUHR2vehy-Jvi5j9KzPDwZAzaDiwXi5hKWbC=s64",
      "userId": "03054817850247331452"
     },
     "user_tz": -540
    },
    "id": "w7BjV85nIoU3"
   },
   "outputs": [],
   "source": [
    "wordcount = {}\n",
    "# lower 소문자\n",
    "for word in istj_words:  \n",
    "    if word not in stopwords:\n",
    "        if word not in wordcount:\n",
    "            wordcount[word] = 1\n",
    "        else:\n",
    "            wordcount[word] += 1"
   ]
  },
  {
   "cell_type": "code",
   "execution_count": 170,
   "metadata": {
    "colab": {
     "base_uri": "https://localhost:8080/"
    },
    "executionInfo": {
     "elapsed": 4,
     "status": "ok",
     "timestamp": 1640572233515,
     "user": {
      "displayName": "용범",
      "photoUrl": "https://lh3.googleusercontent.com/a-/AOh14GiaZUHR2vehy-Jvi5j9KzPDwZAzaDiwXi5hKWbC=s64",
      "userId": "03054817850247331452"
     },
     "user_tz": -540
    },
    "id": "Waizt8zCIqDB",
    "outputId": "30a5f725-9c88-48d3-e311-5f9d215988f4"
   },
   "outputs": [
    {
     "data": {
      "text/plain": [
       "[('우드', 32),\n",
       " ('화이트', 20),\n",
       " ('원목', 18),\n",
       " ('리', 13),\n",
       " ('베이지', 13),\n",
       " ('라운드', 13),\n",
       " ('안방', 12),\n",
       " ('장', 11),\n",
       " ('러그', 11),\n",
       " ('감성', 10),\n",
       " ('빈티', 10),\n",
       " ('엄마', 10),\n",
       " ('아가', 10),\n",
       " ('층간소음', 9),\n",
       " ('두께', 9),\n",
       " ('품', 9),\n",
       " ('상자', 9),\n",
       " ('바구니', 9),\n",
       " ('두', 8),\n",
       " ('조금', 8)]"
      ]
     },
     "execution_count": 170,
     "metadata": {},
     "output_type": "execute_result"
    }
   ],
   "source": [
    "sorted(wordcount.items(), key=lambda x: x[1], reverse=True)[:20]"
   ]
  },
  {
   "cell_type": "markdown",
   "metadata": {
    "id": "e8YaQ9a-kZef"
   },
   "source": [
    "# ESFJ"
   ]
  },
  {
   "cell_type": "code",
   "execution_count": 171,
   "metadata": {
    "colab": {
     "base_uri": "https://localhost:8080/"
    },
    "executionInfo": {
     "elapsed": 1131,
     "status": "ok",
     "timestamp": 1640572234643,
     "user": {
      "displayName": "용범",
      "photoUrl": "https://lh3.googleusercontent.com/a-/AOh14GiaZUHR2vehy-Jvi5j9KzPDwZAzaDiwXi5hKWbC=s64",
      "userId": "03054817850247331452"
     },
     "user_tz": -540
    },
    "id": "uT1eJl2hIsxi",
    "outputId": "a5b27f3d-937a-460e-d24f-ca055cc581fb"
   },
   "outputs": [
    {
     "data": {
      "text/plain": [
       "[('집', 63),\n",
       " ('공간', 42),\n",
       " ('것', 40),\n",
       " ('인테리어', 37),\n",
       " ('수', 37),\n",
       " ('테이블', 34),\n",
       " ('쿠폰', 33),\n",
       " ('저', 30),\n",
       " ('등', 29),\n",
       " ('판매', 29),\n",
       " ('수납', 28),\n",
       " ('오늘', 24),\n",
       " ('화이트', 24),\n",
       " ('의자', 22),\n",
       " ('시공', 21),\n",
       " ('스탠드', 21),\n",
       " ('구매', 21),\n",
       " ('전', 20),\n",
       " ('시즌', 20),\n",
       " ('오프', 20),\n",
       " ('개', 20),\n",
       " ('주방', 20),\n",
       " ('고객', 18),\n",
       " ('집들이', 18),\n",
       " ('포장', 18),\n",
       " ('체어', 18),\n",
       " ('사용', 18),\n",
       " ('셀프', 17),\n",
       " ('제', 17),\n",
       " ('때', 17)]"
      ]
     },
     "execution_count": 171,
     "metadata": {},
     "output_type": "execute_result"
    }
   ],
   "source": [
    "esfj_file = open('/content/drive/MyDrive/Colab Notebooks/MBTI프로젝트/ESFJ.txt', encoding='utf8')\n",
    "esfj = esfj_file.read()\n",
    "\n",
    "esfj_words = okt.nouns(esfj)\n",
    "\n",
    "esfj_count = Counter(esfj_words)\n",
    "\n",
    "esfj_count.most_common(30)"
   ]
  },
  {
   "cell_type": "code",
   "execution_count": 172,
   "metadata": {
    "executionInfo": {
     "elapsed": 3,
     "status": "ok",
     "timestamp": 1640572234643,
     "user": {
      "displayName": "용범",
      "photoUrl": "https://lh3.googleusercontent.com/a-/AOh14GiaZUHR2vehy-Jvi5j9KzPDwZAzaDiwXi5hKWbC=s64",
      "userId": "03054817850247331452"
     },
     "user_tz": -540
    },
    "id": "vgjv8jWEKE8N"
   },
   "outputs": [],
   "source": [
    "wordcount = {}\n",
    "# lower 소문자\n",
    "for word in esfj_words:  \n",
    "    if word not in stopwords:\n",
    "        if word not in wordcount:\n",
    "            wordcount[word] = 1\n",
    "        else:\n",
    "            wordcount[word] += 1"
   ]
  },
  {
   "cell_type": "code",
   "execution_count": 173,
   "metadata": {
    "colab": {
     "base_uri": "https://localhost:8080/"
    },
    "executionInfo": {
     "elapsed": 3,
     "status": "ok",
     "timestamp": 1640572234644,
     "user": {
      "displayName": "용범",
      "photoUrl": "https://lh3.googleusercontent.com/a-/AOh14GiaZUHR2vehy-Jvi5j9KzPDwZAzaDiwXi5hKWbC=s64",
      "userId": "03054817850247331452"
     },
     "user_tz": -540
    },
    "id": "gXfcleLFKGFe",
    "outputId": "208d2252-e64b-46f2-ed8a-db1e5dc0e132"
   },
   "outputs": [
    {
     "data": {
      "text/plain": [
       "[('화이트', 24),\n",
       " ('개', 20),\n",
       " ('화분', 16),\n",
       " ('원목', 16),\n",
       " ('맞춤', 16),\n",
       " ('우드', 16),\n",
       " ('행잉', 15),\n",
       " ('플랜트', 15),\n",
       " ('쇼파', 15),\n",
       " ('모던', 14),\n",
       " ('소파', 14),\n",
       " ('블라인드', 14),\n",
       " ('디자인', 13),\n",
       " ('스위치', 13),\n",
       " ('화장실', 13),\n",
       " ('피카', 12),\n",
       " ('장', 12),\n",
       " ('블랙', 12),\n",
       " ('문', 12),\n",
       " ('서울', 11)]"
      ]
     },
     "execution_count": 173,
     "metadata": {},
     "output_type": "execute_result"
    }
   ],
   "source": [
    "sorted(wordcount.items(), key=lambda x: x[1], reverse=True)[:20]"
   ]
  },
  {
   "cell_type": "markdown",
   "metadata": {
    "id": "nVxGoAR3kmxz"
   },
   "source": [
    "# ENTJ"
   ]
  },
  {
   "cell_type": "code",
   "execution_count": 174,
   "metadata": {
    "colab": {
     "base_uri": "https://localhost:8080/"
    },
    "executionInfo": {
     "elapsed": 911,
     "status": "ok",
     "timestamp": 1640572235552,
     "user": {
      "displayName": "용범",
      "photoUrl": "https://lh3.googleusercontent.com/a-/AOh14GiaZUHR2vehy-Jvi5j9KzPDwZAzaDiwXi5hKWbC=s64",
      "userId": "03054817850247331452"
     },
     "user_tz": -540
    },
    "id": "l58JGHVJK1Tg",
    "outputId": "69c4b156-289e-47d9-d6ef-b2afc53cec58"
   },
   "outputs": [
    {
     "data": {
      "text/plain": [
       "[('집', 57),\n",
       " ('아이', 45),\n",
       " ('공간', 41),\n",
       " ('쿠폰', 34),\n",
       " ('것', 33),\n",
       " ('수납', 31),\n",
       " ('수', 30),\n",
       " ('거실', 25),\n",
       " ('원목', 23),\n",
       " ('화이트', 20),\n",
       " ('원형', 20),\n",
       " ('스탠드', 20),\n",
       " ('꿈', 19),\n",
       " ('전', 18),\n",
       " ('증정', 18),\n",
       " ('집들이', 17),\n",
       " ('때', 17),\n",
       " ('세트', 17),\n",
       " ('우리', 16),\n",
       " ('더', 16),\n",
       " ('개월', 16),\n",
       " ('소파', 15),\n",
       " ('선반', 15),\n",
       " ('우드', 14),\n",
       " ('식탁', 14),\n",
       " ('판매', 14),\n",
       " ('인테리어', 13),\n",
       " ('고객', 13),\n",
       " ('장갑', 13),\n",
       " ('책장', 13)]"
      ]
     },
     "execution_count": 174,
     "metadata": {},
     "output_type": "execute_result"
    }
   ],
   "source": [
    "entj_file = open('/content/drive/MyDrive/Colab Notebooks/MBTI프로젝트/ENTJ.txt', encoding='utf8')\n",
    "entj = entj_file.read()\n",
    "\n",
    "entj_words = okt.nouns(entj)\n",
    "\n",
    "entj_count = Counter(entj_words)\n",
    "\n",
    "entj_count.most_common(30)"
   ]
  },
  {
   "cell_type": "code",
   "execution_count": 175,
   "metadata": {
    "executionInfo": {
     "elapsed": 5,
     "status": "ok",
     "timestamp": 1640572235552,
     "user": {
      "displayName": "용범",
      "photoUrl": "https://lh3.googleusercontent.com/a-/AOh14GiaZUHR2vehy-Jvi5j9KzPDwZAzaDiwXi5hKWbC=s64",
      "userId": "03054817850247331452"
     },
     "user_tz": -540
    },
    "id": "tuxZJhxGK6sN"
   },
   "outputs": [],
   "source": [
    "wordcount = {}\n",
    "# lower 소문자\n",
    "for word in entj_words:  \n",
    "    if word not in stopwords:\n",
    "        if word not in wordcount:\n",
    "            wordcount[word] = 1\n",
    "        else:\n",
    "            wordcount[word] += 1"
   ]
  },
  {
   "cell_type": "code",
   "execution_count": 176,
   "metadata": {
    "colab": {
     "base_uri": "https://localhost:8080/"
    },
    "executionInfo": {
     "elapsed": 4,
     "status": "ok",
     "timestamp": 1640572235552,
     "user": {
      "displayName": "용범",
      "photoUrl": "https://lh3.googleusercontent.com/a-/AOh14GiaZUHR2vehy-Jvi5j9KzPDwZAzaDiwXi5hKWbC=s64",
      "userId": "03054817850247331452"
     },
     "user_tz": -540
    },
    "id": "8-O0MhNmK8gX",
    "outputId": "1dbf455a-042d-421f-c9ce-6583776a455c"
   },
   "outputs": [
    {
     "data": {
      "text/plain": [
       "[('원목', 23),\n",
       " ('화이트', 20),\n",
       " ('꿈', 19),\n",
       " ('우리', 16),\n",
       " ('소파', 15),\n",
       " ('우드', 14),\n",
       " ('장갑', 13),\n",
       " ('거울', 13),\n",
       " ('랙', 12),\n",
       " ('가장', 12),\n",
       " ('잡지', 11),\n",
       " ('베드', 11),\n",
       " ('장', 11),\n",
       " ('문', 11),\n",
       " ('곳', 11),\n",
       " ('홈스', 10),\n",
       " ('미니', 10),\n",
       " ('친구', 10),\n",
       " ('멜라민', 10),\n",
       " ('플랫', 10)]"
      ]
     },
     "execution_count": 176,
     "metadata": {},
     "output_type": "execute_result"
    }
   ],
   "source": [
    "sorted(wordcount.items(), key=lambda x: x[1], reverse=True)[:20]"
   ]
  },
  {
   "cell_type": "markdown",
   "metadata": {
    "id": "2i-kal9gk1OS"
   },
   "source": [
    "# ESFP"
   ]
  },
  {
   "cell_type": "code",
   "execution_count": 177,
   "metadata": {
    "colab": {
     "base_uri": "https://localhost:8080/"
    },
    "executionInfo": {
     "elapsed": 5,
     "status": "ok",
     "timestamp": 1640572235553,
     "user": {
      "displayName": "용범",
      "photoUrl": "https://lh3.googleusercontent.com/a-/AOh14GiaZUHR2vehy-Jvi5j9KzPDwZAzaDiwXi5hKWbC=s64",
      "userId": "03054817850247331452"
     },
     "user_tz": -540
    },
    "id": "oaXKlMuuLi3H",
    "outputId": "99ef7b68-2d4a-40c1-9d49-ef1c4213f554"
   },
   "outputs": [
    {
     "data": {
      "text/plain": [
       "[('해외', 33),\n",
       " ('화이트', 26),\n",
       " ('집', 18),\n",
       " ('주방', 17),\n",
       " ('거실', 16),\n",
       " ('수', 15),\n",
       " ('공간', 11),\n",
       " ('테이블', 11),\n",
       " ('뷰', 9),\n",
       " ('가장', 9),\n",
       " ('조화', 9),\n",
       " ('거울', 9),\n",
       " ('때', 8),\n",
       " ('톤', 8),\n",
       " ('미니', 7),\n",
       " ('조명', 7),\n",
       " ('현관', 7),\n",
       " ('소파', 7),\n",
       " ('저희', 7),\n",
       " ('골드', 7),\n",
       " ('의자', 7),\n",
       " ('판매', 7),\n",
       " ('인테리어', 6),\n",
       " ('고객', 6),\n",
       " ('남편', 6),\n",
       " ('개월', 6),\n",
       " ('창문', 6),\n",
       " ('것', 6),\n",
       " ('스타', 6),\n",
       " ('액자', 6)]"
      ]
     },
     "execution_count": 177,
     "metadata": {},
     "output_type": "execute_result"
    }
   ],
   "source": [
    "esfp_file = open('/content/drive/MyDrive/Colab Notebooks/MBTI프로젝트/ESFP.txt', encoding='utf8')\n",
    "esfp = esfp_file.read()\n",
    "\n",
    "esfp_words = okt.nouns(esfp)\n",
    "\n",
    "esfp_count = Counter(esfp_words)\n",
    "\n",
    "esfp_count.most_common(30)"
   ]
  },
  {
   "cell_type": "code",
   "execution_count": 178,
   "metadata": {
    "executionInfo": {
     "elapsed": 372,
     "status": "ok",
     "timestamp": 1640572235922,
     "user": {
      "displayName": "용범",
      "photoUrl": "https://lh3.googleusercontent.com/a-/AOh14GiaZUHR2vehy-Jvi5j9KzPDwZAzaDiwXi5hKWbC=s64",
      "userId": "03054817850247331452"
     },
     "user_tz": -540
    },
    "id": "pZ5Um7Z6LpHf"
   },
   "outputs": [],
   "source": [
    "wordcount = {}\n",
    "# lower 소문자\n",
    "for word in esfp_words:  \n",
    "    if word not in stopwords:\n",
    "        if word not in wordcount:\n",
    "            wordcount[word] = 1\n",
    "        else:\n",
    "            wordcount[word] += 1"
   ]
  },
  {
   "cell_type": "code",
   "execution_count": 179,
   "metadata": {
    "colab": {
     "base_uri": "https://localhost:8080/"
    },
    "executionInfo": {
     "elapsed": 3,
     "status": "ok",
     "timestamp": 1640572235923,
     "user": {
      "displayName": "용범",
      "photoUrl": "https://lh3.googleusercontent.com/a-/AOh14GiaZUHR2vehy-Jvi5j9KzPDwZAzaDiwXi5hKWbC=s64",
      "userId": "03054817850247331452"
     },
     "user_tz": -540
    },
    "id": "xsi13DyiLqMX",
    "outputId": "7d54317c-6b71-4995-8efd-bb2a6a8ff36c"
   },
   "outputs": [
    {
     "data": {
      "text/plain": [
       "[('화이트', 26),\n",
       " ('뷰', 9),\n",
       " ('가장', 9),\n",
       " ('거울', 9),\n",
       " ('톤', 8),\n",
       " ('미니', 7),\n",
       " ('조명', 7),\n",
       " ('소파', 7),\n",
       " ('골드', 7),\n",
       " ('남편', 6),\n",
       " ('창문', 6),\n",
       " ('스타', 6),\n",
       " ('액자', 6),\n",
       " ('효과', 6),\n",
       " ('우드', 6),\n",
       " ('분위기', 6),\n",
       " ('유지', 6),\n",
       " ('색', 6),\n",
       " ('내추럴', 5),\n",
       " ('곳', 5)]"
      ]
     },
     "execution_count": 179,
     "metadata": {},
     "output_type": "execute_result"
    }
   ],
   "source": [
    "sorted(wordcount.items(), key=lambda x: x[1], reverse=True)[:20]"
   ]
  },
  {
   "cell_type": "markdown",
   "metadata": {
    "id": "NanxEd9LlCYv"
   },
   "source": [
    "# ENFP"
   ]
  },
  {
   "cell_type": "code",
   "execution_count": 180,
   "metadata": {
    "colab": {
     "base_uri": "https://localhost:8080/"
    },
    "executionInfo": {
     "elapsed": 1006,
     "status": "ok",
     "timestamp": 1640572236927,
     "user": {
      "displayName": "용범",
      "photoUrl": "https://lh3.googleusercontent.com/a-/AOh14GiaZUHR2vehy-Jvi5j9KzPDwZAzaDiwXi5hKWbC=s64",
      "userId": "03054817850247331452"
     },
     "user_tz": -540
    },
    "id": "UpvFYZZYg5m9",
    "outputId": "a9ff539f-0d52-4845-dc03-e94fcf0392cb"
   },
   "outputs": [
    {
     "data": {
      "text/plain": [
       "[('해외', 86),\n",
       " ('것', 72),\n",
       " ('화이트', 66),\n",
       " ('저', 64),\n",
       " ('제', 64),\n",
       " ('테이블', 62),\n",
       " ('집', 60),\n",
       " ('쿠폰', 53),\n",
       " ('공간', 50),\n",
       " ('커튼', 45),\n",
       " ('세트', 43),\n",
       " ('스탠드', 42),\n",
       " ('사용', 38),\n",
       " ('방', 37),\n",
       " ('원형', 36),\n",
       " ('인테리어', 32),\n",
       " ('때', 32),\n",
       " ('수', 32),\n",
       " ('수납', 31),\n",
       " ('이', 30),\n",
       " ('유리', 29),\n",
       " ('블랙', 29),\n",
       " ('종', 28),\n",
       " ('커버', 28),\n",
       " ('거실', 26),\n",
       " ('가구', 26),\n",
       " ('이불', 26),\n",
       " ('원목', 25),\n",
       " ('미니', 25),\n",
       " ('마네킹', 25)]"
      ]
     },
     "execution_count": 180,
     "metadata": {},
     "output_type": "execute_result"
    }
   ],
   "source": [
    "enfp_file = open('/content/drive/MyDrive/Colab Notebooks/MBTI프로젝트/enfp.txt', encoding='utf8')\n",
    "enfp = enfp_file.read()\n",
    "# enfp\n",
    "enfp_words = okt.nouns(enfp)\n",
    "# enfp_words\n",
    "\n",
    "enfp_count = Counter(enfp_words)\n",
    "# enfp_count\n",
    "\n",
    "enfp_count.most_common(30)"
   ]
  },
  {
   "cell_type": "code",
   "execution_count": 181,
   "metadata": {
    "executionInfo": {
     "elapsed": 4,
     "status": "ok",
     "timestamp": 1640572236927,
     "user": {
      "displayName": "용범",
      "photoUrl": "https://lh3.googleusercontent.com/a-/AOh14GiaZUHR2vehy-Jvi5j9KzPDwZAzaDiwXi5hKWbC=s64",
      "userId": "03054817850247331452"
     },
     "user_tz": -540
    },
    "id": "GZtwv5Ibg51b"
   },
   "outputs": [],
   "source": [
    "wordcount = {}\n",
    "# lower 소문자\n",
    "for word in enfp_words:  \n",
    "    if word not in stopwords:\n",
    "        if word not in wordcount:\n",
    "            wordcount[word] = 1\n",
    "        else:\n",
    "            wordcount[word] += 1"
   ]
  },
  {
   "cell_type": "code",
   "execution_count": 182,
   "metadata": {
    "colab": {
     "base_uri": "https://localhost:8080/"
    },
    "executionInfo": {
     "elapsed": 4,
     "status": "ok",
     "timestamp": 1640572236927,
     "user": {
      "displayName": "용범",
      "photoUrl": "https://lh3.googleusercontent.com/a-/AOh14GiaZUHR2vehy-Jvi5j9KzPDwZAzaDiwXi5hKWbC=s64",
      "userId": "03054817850247331452"
     },
     "user_tz": -540
    },
    "id": "bIWHIftZg8qi",
    "outputId": "6a88bfc7-17ca-44c1-f7b4-713e691a9586"
   },
   "outputs": [
    {
     "data": {
      "text/plain": [
       "[('화이트', 66),\n",
       " ('커튼', 45),\n",
       " ('유리', 29),\n",
       " ('블랙', 29),\n",
       " ('원목', 25),\n",
       " ('미니', 25),\n",
       " ('마네킹', 25),\n",
       " ('요', 23),\n",
       " ('액자', 23),\n",
       " ('조명', 22),\n",
       " ('가지', 22),\n",
       " ('우드', 21),\n",
       " ('색상', 19),\n",
       " ('곳', 19),\n",
       " ('톤', 18),\n",
       " ('가장', 18),\n",
       " ('보관', 18),\n",
       " ('방이', 17),\n",
       " ('포스터', 17),\n",
       " ('구조', 17)]"
      ]
     },
     "execution_count": 182,
     "metadata": {},
     "output_type": "execute_result"
    }
   ],
   "source": [
    "sorted(wordcount.items(), key=lambda x: x[1], reverse=True)[:20]"
   ]
  },
  {
   "cell_type": "markdown",
   "metadata": {
    "id": "ljnuaii1lFRY"
   },
   "source": [
    "# enfj"
   ]
  },
  {
   "cell_type": "code",
   "execution_count": 183,
   "metadata": {
    "colab": {
     "base_uri": "https://localhost:8080/"
    },
    "executionInfo": {
     "elapsed": 396,
     "status": "ok",
     "timestamp": 1640572237321,
     "user": {
      "displayName": "용범",
      "photoUrl": "https://lh3.googleusercontent.com/a-/AOh14GiaZUHR2vehy-Jvi5j9KzPDwZAzaDiwXi5hKWbC=s64",
      "userId": "03054817850247331452"
     },
     "user_tz": -540
    },
    "id": "zfAbLhDDh2lr",
    "outputId": "8e297fc6-f6ab-4d1d-be1c-4a5eb15d4da0"
   },
   "outputs": [
    {
     "data": {
      "text/plain": [
       "[('공간', 53),\n",
       " ('거실', 36),\n",
       " ('화이트', 35),\n",
       " ('테이블', 33),\n",
       " ('의자', 31),\n",
       " ('원목', 30),\n",
       " ('브릭', 29),\n",
       " ('집', 27),\n",
       " ('제', 26),\n",
       " ('쿠폰', 26),\n",
       " ('블랙', 26),\n",
       " ('패', 25),\n",
       " ('소파', 23),\n",
       " ('커튼', 22),\n",
       " ('것', 20),\n",
       " ('저', 20),\n",
       " ('주방', 20),\n",
       " ('스툴', 19),\n",
       " ('접이식', 18),\n",
       " ('협탁', 17),\n",
       " ('복층', 16),\n",
       " ('해외', 16),\n",
       " ('전시', 16),\n",
       " ('화병', 16),\n",
       " ('침실', 16),\n",
       " ('컬러', 15),\n",
       " ('미니', 14),\n",
       " ('정말', 14),\n",
       " ('빔', 13),\n",
       " ('매트리스', 13)]"
      ]
     },
     "execution_count": 183,
     "metadata": {},
     "output_type": "execute_result"
    }
   ],
   "source": [
    "enfj_file = open('/content/drive/MyDrive/Colab Notebooks/MBTI프로젝트/enfj.txt', encoding='utf8')\n",
    "enfj = enfj_file.read()\n",
    "# enfj\n",
    "enfj_words = okt.nouns(enfj)\n",
    "# enfj_words\n",
    "\n",
    "enfj_count = Counter(enfj_words)\n",
    "# enfj_count\n",
    "\n",
    "enfj_count.most_common(30)"
   ]
  },
  {
   "cell_type": "code",
   "execution_count": 184,
   "metadata": {
    "executionInfo": {
     "elapsed": 4,
     "status": "ok",
     "timestamp": 1640572237322,
     "user": {
      "displayName": "용범",
      "photoUrl": "https://lh3.googleusercontent.com/a-/AOh14GiaZUHR2vehy-Jvi5j9KzPDwZAzaDiwXi5hKWbC=s64",
      "userId": "03054817850247331452"
     },
     "user_tz": -540
    },
    "id": "LBXu7h0lh7IQ"
   },
   "outputs": [],
   "source": [
    "wordcount = {}\n",
    "# lower 소문자\n",
    "for word in enfj_words:  \n",
    "    if word not in stopwords:\n",
    "        if word not in wordcount:\n",
    "            wordcount[word] = 1\n",
    "        else:\n",
    "            wordcount[word] += 1"
   ]
  },
  {
   "cell_type": "code",
   "execution_count": 185,
   "metadata": {
    "colab": {
     "base_uri": "https://localhost:8080/"
    },
    "executionInfo": {
     "elapsed": 4,
     "status": "ok",
     "timestamp": 1640572237322,
     "user": {
      "displayName": "용범",
      "photoUrl": "https://lh3.googleusercontent.com/a-/AOh14GiaZUHR2vehy-Jvi5j9KzPDwZAzaDiwXi5hKWbC=s64",
      "userId": "03054817850247331452"
     },
     "user_tz": -540
    },
    "id": "LgUocMHIh9N6",
    "outputId": "00ef1884-d023-4897-f498-b3717a2939b4"
   },
   "outputs": [
    {
     "data": {
      "text/plain": [
       "[('화이트', 35),\n",
       " ('원목', 30),\n",
       " ('블랙', 26),\n",
       " ('소파', 23),\n",
       " ('커튼', 22),\n",
       " ('스툴', 19),\n",
       " ('협탁', 17),\n",
       " ('복층', 16),\n",
       " ('전시', 16),\n",
       " ('화병', 16),\n",
       " ('미니', 14),\n",
       " ('매트리스', 13),\n",
       " ('빈티', 13),\n",
       " ('처음', 12),\n",
       " ('프로젝터', 11),\n",
       " ('코지', 11),\n",
       " ('아쿠아', 11),\n",
       " ('텍스', 11),\n",
       " ('포스터', 11),\n",
       " ('러그', 11)]"
      ]
     },
     "execution_count": 185,
     "metadata": {},
     "output_type": "execute_result"
    }
   ],
   "source": [
    "sorted(wordcount.items(), key=lambda x: x[1], reverse=True)[:20]"
   ]
  },
  {
   "cell_type": "markdown",
   "metadata": {
    "id": "2CqsYX81lJ8G"
   },
   "source": [
    "# ENTP"
   ]
  },
  {
   "cell_type": "code",
   "execution_count": 186,
   "metadata": {
    "colab": {
     "base_uri": "https://localhost:8080/"
    },
    "executionInfo": {
     "elapsed": 367,
     "status": "ok",
     "timestamp": 1640572237687,
     "user": {
      "displayName": "용범",
      "photoUrl": "https://lh3.googleusercontent.com/a-/AOh14GiaZUHR2vehy-Jvi5j9KzPDwZAzaDiwXi5hKWbC=s64",
      "userId": "03054817850247331452"
     },
     "user_tz": -540
    },
    "id": "Zia2d44ciAav",
    "outputId": "22a95895-44d5-4277-9af7-a93219a82253"
   },
   "outputs": [
    {
     "data": {
      "text/plain": [
       "[('타일', 65),\n",
       " ('크리스마스', 37),\n",
       " ('저', 33),\n",
       " ('트리', 25),\n",
       " ('수', 23),\n",
       " ('것', 22),\n",
       " ('장식', 21),\n",
       " ('테이블', 20),\n",
       " ('전구', 19),\n",
       " ('컬러', 18),\n",
       " ('조명', 18),\n",
       " ('본드', 18),\n",
       " ('집', 17),\n",
       " ('파티', 17),\n",
       " ('골드', 17),\n",
       " ('커튼', 17),\n",
       " ('소품', 17),\n",
       " ('거', 15),\n",
       " ('사용', 15),\n",
       " ('소켓', 15),\n",
       " ('먼트', 14),\n",
       " ('키', 14),\n",
       " ('모자이크', 14),\n",
       " ('더', 13),\n",
       " ('활용', 13),\n",
       " ('목재', 12),\n",
       " ('화이트', 12),\n",
       " ('산타', 12),\n",
       " ('만들기', 11),\n",
       " ('스타', 11)]"
      ]
     },
     "execution_count": 186,
     "metadata": {},
     "output_type": "execute_result"
    }
   ],
   "source": [
    "entp_file = open('/content/drive/MyDrive/Colab Notebooks/MBTI프로젝트/entp.txt', encoding='utf8')\n",
    "entp = entp_file.read()\n",
    "\n",
    "entp_words = okt.nouns(entp)\n",
    "\n",
    "\n",
    "entp_count = Counter(entp_words)\n",
    "\n",
    "entp_count.most_common(30)"
   ]
  },
  {
   "cell_type": "code",
   "execution_count": 187,
   "metadata": {
    "executionInfo": {
     "elapsed": 5,
     "status": "ok",
     "timestamp": 1640572238007,
     "user": {
      "displayName": "용범",
      "photoUrl": "https://lh3.googleusercontent.com/a-/AOh14GiaZUHR2vehy-Jvi5j9KzPDwZAzaDiwXi5hKWbC=s64",
      "userId": "03054817850247331452"
     },
     "user_tz": -540
    },
    "id": "iXzVIGhZiG-b"
   },
   "outputs": [],
   "source": [
    "wordcount = {}\n",
    "# lower 소문자\n",
    "for word in entp_words:  \n",
    "    if word not in stopwords:\n",
    "        if word not in wordcount:\n",
    "            wordcount[word] = 1\n",
    "        else:\n",
    "            wordcount[word] += 1"
   ]
  },
  {
   "cell_type": "code",
   "execution_count": 188,
   "metadata": {
    "colab": {
     "base_uri": "https://localhost:8080/"
    },
    "executionInfo": {
     "elapsed": 6,
     "status": "ok",
     "timestamp": 1640572238008,
     "user": {
      "displayName": "용범",
      "photoUrl": "https://lh3.googleusercontent.com/a-/AOh14GiaZUHR2vehy-Jvi5j9KzPDwZAzaDiwXi5hKWbC=s64",
      "userId": "03054817850247331452"
     },
     "user_tz": -540
    },
    "id": "cED4L0FRiJFs",
    "outputId": "9d20893f-c934-4359-bb03-89c73df01a0f"
   },
   "outputs": [
    {
     "data": {
      "text/plain": [
       "[('타일', 65),\n",
       " ('크리스마스', 37),\n",
       " ('장식', 21),\n",
       " ('조명', 18),\n",
       " ('본드', 18),\n",
       " ('파티', 17),\n",
       " ('골드', 17),\n",
       " ('커튼', 17),\n",
       " ('소켓', 15),\n",
       " ('먼트', 14),\n",
       " ('키', 14),\n",
       " ('모자이크', 14),\n",
       " ('목재', 12),\n",
       " ('화이트', 12),\n",
       " ('산타', 12),\n",
       " ('만들기', 11),\n",
       " ('스타', 11),\n",
       " ('재료', 11),\n",
       " ('재단', 10),\n",
       " ('아치', 10)]"
      ]
     },
     "execution_count": 188,
     "metadata": {},
     "output_type": "execute_result"
    }
   ],
   "source": [
    "sorted(wordcount.items(), key=lambda x: x[1], reverse=True)[:20]"
   ]
  },
  {
   "cell_type": "code",
   "execution_count": null,
   "metadata": {
    "id": "KA6oZeAgqEJD"
   },
   "outputs": [],
   "source": []
  }
 ],
 "metadata": {
  "colab": {
   "authorship_tag": "ABX9TyPmzuUqAeojGR94rVtM7Dnw",
   "collapsed_sections": [],
   "mount_file_id": "1gpYhvf4x_eHht-LOmB4eRbcxcPdqJLmj",
   "name": "MBTI_자연어.ipynb",
   "provenance": []
  },
  "kernelspec": {
   "display_name": "Python 3",
   "language": "python",
   "name": "python3"
  },
  "language_info": {
   "codemirror_mode": {
    "name": "ipython",
    "version": 3
   },
   "file_extension": ".py",
   "mimetype": "text/x-python",
   "name": "python",
   "nbconvert_exporter": "python",
   "pygments_lexer": "ipython3",
   "version": "3.8.8"
  },
  "toc": {
   "base_numbering": 1,
   "nav_menu": {},
   "number_sections": true,
   "sideBar": true,
   "skip_h1_title": false,
   "title_cell": "Table of Contents",
   "title_sidebar": "Contents",
   "toc_cell": false,
   "toc_position": {},
   "toc_section_display": true,
   "toc_window_display": false
  }
 },
 "nbformat": 4,
 "nbformat_minor": 1
}
